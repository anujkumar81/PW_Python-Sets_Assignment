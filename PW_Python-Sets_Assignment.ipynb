{
 "cells": [
  {
   "cell_type": "code",
   "execution_count": null,
   "id": "9174cfab-3724-41e9-8663-6ea60706d772",
   "metadata": {},
   "outputs": [],
   "source": [
    "#Q1. What is a set in Python?\n",
    "#Answer;\n",
    "'''In python A set is an unordered collection of unique elements. It is defined by enclosing the elements within curly braces {}. Sets are mutable, meaning you can add or remove elements from them.'''"
   ]
  },
  {
   "cell_type": "code",
   "execution_count": 8,
   "id": "d269b18b-bb64-4c0a-be65-d7c6606f3fed",
   "metadata": {},
   "outputs": [],
   "source": [
    "#Q2.How do you create a set in Python?\n",
    "#Answer;\n",
    "\n",
    "# Create a set using curly braces\n",
    "my_set = {1, 2, 3, 4, 5}\n",
    "\n",
    "# Create a set using the set() function\n",
    "my_set = set([1, 2, 3, 4, 5])"
   ]
  },
  {
   "cell_type": "code",
   "execution_count": 9,
   "id": "9b1c7533-4349-437e-ae75-5ad3706354c8",
   "metadata": {},
   "outputs": [
    {
     "name": "stdout",
     "output_type": "stream",
     "text": [
      "{1, 2, 3}\n"
     ]
    }
   ],
   "source": [
    "#Q3. How do you add elements to a set in Python?\n",
    "#Answer;\n",
    "'''Using the add() method: The add() method takes a single element as an argument and adds it to the set. If the element is already present in the set, the add() method does nothing.'''\n",
    "#Here is an example of using the add() method to add an element to a set:\n",
    "my_set = set()\n",
    "my_set.add(1)\n",
    "my_set.add(2)\n",
    "my_set.add(3)\n",
    "\n",
    "print(my_set)"
   ]
  },
  {
   "cell_type": "code",
   "execution_count": 10,
   "id": "bedb0ead-89f6-4540-8910-67dc0138ad20",
   "metadata": {},
   "outputs": [
    {
     "name": "stdout",
     "output_type": "stream",
     "text": [
      "{1, 2, 4, 5}\n"
     ]
    }
   ],
   "source": [
    "#Q4. How do you remove elements from a set in Python?\n",
    "#Answer;\n",
    "'''Using the remove() method: The remove() method removes the specified element from the set. If the element is not present in the set, a KeyError exception is raised.'''\n",
    "#Here is an example of how to use the remove() method:\n",
    "my_set = {1, 2, 3, 4, 5}\n",
    "my_set.remove(3)\n",
    "print(my_set)"
   ]
  },
  {
   "cell_type": "code",
   "execution_count": 11,
   "id": "d8b4a86a-3c16-469d-9f59-daf256d1c132",
   "metadata": {},
   "outputs": [
    {
     "name": "stdout",
     "output_type": "stream",
     "text": [
      "5\n"
     ]
    }
   ],
   "source": [
    "#Q5. How do you get the length of a set in Python?\n",
    "#Answer;\n",
    "\n",
    "my_set = {1, 2, 3, 4, 5}\n",
    "length_of_set = len(my_set)\n",
    "print(length_of_set)"
   ]
  },
  {
   "cell_type": "code",
   "execution_count": null,
   "id": "653c306e-6fbf-444a-98c6-98e661e50849",
   "metadata": {},
   "outputs": [],
   "source": []
  }
 ],
 "metadata": {
  "kernelspec": {
   "display_name": "Python 3 (ipykernel)",
   "language": "python",
   "name": "python3"
  },
  "language_info": {
   "codemirror_mode": {
    "name": "ipython",
    "version": 3
   },
   "file_extension": ".py",
   "mimetype": "text/x-python",
   "name": "python",
   "nbconvert_exporter": "python",
   "pygments_lexer": "ipython3",
   "version": "3.10.8"
  }
 },
 "nbformat": 4,
 "nbformat_minor": 5
}
